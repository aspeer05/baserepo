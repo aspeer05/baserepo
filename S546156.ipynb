{
 "cells": [
  {
   "cell_type": "markdown",
   "id": "375baf73-bfbe-47bf-8eae-6e948d5e2439",
   "metadata": {},
   "source": [
    "Amber Speer"
   ]
  },
  {
   "cell_type": "code",
   "execution_count": 17,
   "id": "935a2787-dca8-4b9f-8046-b10b887880e2",
   "metadata": {},
   "outputs": [
    {
     "name": "stdout",
     "output_type": "stream",
     "text": [
      "*      *\n",
      "**    **\n",
      "***  ***\n",
      "********\n"
     ]
    }
   ],
   "source": [
    "# Outer loop\n",
    "for i in range(0,4):\n",
    "    # Inner loop\n",
    "    for j in range(0,1+i):\n",
    "        print(\"*\",end=\"\")\n",
    "    for k in range(0,3-i):\n",
    "        print(\" \",end=\"\")\n",
    "    for l in range(0,3-i):\n",
    "        print(\" \",end=\"\")    \n",
    "    for m in range(0,i+1):\n",
    "        print(\"*\",end=\"\")\n",
    "    print()"
   ]
  },
  {
   "cell_type": "code",
   "execution_count": null,
   "id": "2df38bba-f148-4df5-934e-ac4540089e2c",
   "metadata": {},
   "outputs": [],
   "source": []
  }
 ],
 "metadata": {
  "kernelspec": {
   "display_name": "Python 3 (ipykernel)",
   "language": "python",
   "name": "python3"
  },
  "language_info": {
   "codemirror_mode": {
    "name": "ipython",
    "version": 3
   },
   "file_extension": ".py",
   "mimetype": "text/x-python",
   "name": "python",
   "nbconvert_exporter": "python",
   "pygments_lexer": "ipython3",
   "version": "3.10.7"
  }
 },
 "nbformat": 4,
 "nbformat_minor": 5
}
